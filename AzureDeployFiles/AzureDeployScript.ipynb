{
 "cells": [
  {
   "cell_type": "code",
   "execution_count": 2,
   "metadata": {},
   "outputs": [],
   "source": [
    "import os  # Import the os module to interact with the operating system\n",
    "import json  # Import the json module to work with JSON data\n",
    "import requests  # Import the requests module to make HTTP requests\n",
    "from azureml.core import Workspace  #  provides methods for managing resources within the workspace\n",
    "from azureml.core.model import Model  #  allows you to register, manage, and deploy trained models within an Azure ML workspace\n",
    "from azureml.core.environment import Environment  #  represents a Python environment that can be used for running machine learning experiments and deploying models\n",
    "from azureml.core import Experiment  # provides methods for creating and managing experiments, as well as tracking experiment runs and metrics.\n",
    "from azureml.core import ScriptRunConfig  #  allows you to specify the script file, environment, compute target, and other settings for the experiment run.\n",
    "from azureml.core.conda_dependencies import CondaDependencies  # allows you to specify the Python packages and versions needed for model training and deployment.\n",
    "from azureml.core.model import InferenceConfig  # defines the configuration for deploying a machine learning model as a web service for inference\n",
    "from azureml.core.webservice import AciWebservice, Webservice  #  allows you to deploy models as web services to ACI for scalable and cost-effective inference.\n",
    "from azureml.core.compute_target import ComputeTargetException  # an exception class used to indicate errors related to Azure Machine Learning compute targets. It is raised when a specified compute target cannot be found or accessed.\n",
    "from azureml.core.compute import AmlCompute, ComputeTarget  # allows you to create, manage, and scale compute resources for model training and deployment."
   ]
  },
  {
   "cell_type": "code",
   "execution_count": 7,
   "metadata": {},
   "outputs": [],
   "source": [
    "config_file_path = \"config.json\"  # Specify the path to the configuration file (assumed to be in JSON format)\n",
    "\n",
    "# Read JSON data from the configuration file into a dictionary\n",
    "with open(config_file_path, 'r') as file:\n",
    "    data = json.load(file)  # Load JSON data from the file into the 'data' dictionary\n",
    "\n",
    "subscription_id = data[\"subscription_id\"]  # Retrieve subscription ID from the 'data' dictionary\n",
    "resource_group = data[\"resource_group\"]  # Retrieve resource group name from the 'data' dictionary\n",
    "workspace_name = data[\"workspace_name\"]  # Retrieve workspace name from the 'data' dictionary\n",
    "region = data[\"region\"]  # Retrieve Azure region from the 'data' dictionary\n",
    "compute_target = data[\"compute_target\"]  # Retrieve compute target name from the 'data' dictionary"
   ]
  },
  {
   "cell_type": "code",
   "execution_count": 8,
   "metadata": {},
   "outputs": [
    {
     "name": "stdout",
     "output_type": "stream",
     "text": [
      "ML-RandD-AMS\n",
      "WS-ML-RandD-AMS\n",
      "eastus\n",
      "amitsachdev\n"
     ]
    }
   ],
   "source": [
    "print(resource_group)\n",
    "print(workspace_name)\n",
    "print(region)\n",
    "print(compute_target)"
   ]
  },
  {
   "cell_type": "code",
   "execution_count": 9,
   "metadata": {},
   "outputs": [
    {
     "name": "stdout",
     "output_type": "stream",
     "text": [
      "Performing interactive authentication. Please follow the instructions on the terminal.\n"
     ]
    },
    {
     "name": "stderr",
     "output_type": "stream",
     "text": [
      "The default web browser has been opened at https://login.microsoftonline.com/organizations/oauth2/v2.0/authorize. Please continue the login in the web browser. If no web browser is available or if the web browser fails to open, use device code flow with `az login --use-device-code`.\n"
     ]
    },
    {
     "name": "stdout",
     "output_type": "stream",
     "text": [
      "Interactive authentication successfully completed.\n",
      "Workspace already exists.\n"
     ]
    }
   ],
   "source": [
    "try:  # Try to load the Azure ML workspace configuration from the current environment\n",
    "    ws = Workspace.from_config()  # Load the workspace configuration\n",
    "    print('Workspace already exists.')\n",
    "except:  # If the workspace configuration is not found, create a new workspace\n",
    "    ws = Workspace.create(workspace_name,  # Specify the name for the new workspace\n",
    "                          resource_group=resource_group,  # Specify the resource group for the new workspace\n",
    "                          create_resource_group=True,  # Create the resource group if it doesn't exist\n",
    "                          subscription_id=subscription_id,  # Specify the subscription ID\n",
    "                          region=region)  # Specify the Azure region for the workspace\n",
    "    ws.write_config('.azureml')  # Write the workspace configuration to a file for future use"
   ]
  },
  {
   "cell_type": "code",
   "execution_count": 7,
   "metadata": {},
   "outputs": [
    {
     "data": {
      "text/plain": [
       "Workspace.create(name='WS-ML-RandD-AMS', subscription_id='4058d79e-a063-4ebf-bf0e-9f1ab5529019', resource_group='ML-RandD-AMS')"
      ]
     },
     "execution_count": 7,
     "metadata": {},
     "output_type": "execute_result"
    }
   ],
   "source": [
    "Workspace.from_config()  # Load the Azure ML workspace configuration from the current environment"
   ]
  },
  {
   "cell_type": "code",
   "execution_count": 10,
   "metadata": {},
   "outputs": [
    {
     "name": "stdout",
     "output_type": "stream",
     "text": [
      "This Compute Target already exists.\n",
      "Azure Machine Learning Compute attached now\n"
     ]
    }
   ],
   "source": [
    "try:  # Try to retrieve an existing compute target\n",
    "    aml_compute = AmlCompute(ws, compute_target)  # Load the existing Azure ML compute target\n",
    "    print(\"This Compute Target already exists.\")\n",
    "except ComputeTargetException:  # If the compute target doesn't exist, create a new one\n",
    "    print(\"Creating new compute target:\", compute_target)\n",
    "    \n",
    "    provisioning_config = AmlCompute.provisioning_configuration(vm_size=\"STANDARD_D2_V2\",  # Specify the VM size for the compute target\n",
    "                                                                min_nodes=1,  # Specify the minimum number of nodes\n",
    "                                                                max_nodes=4,  # Specify the maximum number of nodes\n",
    "                                                                idle_seconds_before_scaledown=3000)  # Specify the idle time before scaling down\n",
    "    aml_compute = ComputeTarget.create(ws, compute_target, provisioning_config)  # Create a new Azure ML compute target\n",
    "    aml_compute.wait_for_completion(show_output=True, min_node_count=None, timeout_in_minutes=20)  # Wait for the provisioning to complete\n",
    "\n",
    "    \n",
    "print(\"Azure Machine Learning Compute attached now\")"
   ]
  },
  {
   "cell_type": "code",
   "execution_count": 11,
   "metadata": {},
   "outputs": [],
   "source": [
    "model_path = 'Best_model.pkl'  # Specify the path to the trained model file"
   ]
  },
  {
   "cell_type": "code",
   "execution_count": 12,
   "metadata": {},
   "outputs": [],
   "source": [
    "model_name = 'Housing_price_prediction'  # Specify the name for the registered model"
   ]
  },
  {
   "cell_type": "code",
   "execution_count": 13,
   "metadata": {},
   "outputs": [
    {
     "name": "stdout",
     "output_type": "stream",
     "text": [
      "Registering model Housing_price_prediction\n"
     ]
    }
   ],
   "source": [
    "registered_model = Model.register(model_path=model_path,  # Register the model in the Azure ML workspace\n",
    "                                  model_name=model_name,  # Specify the name for the registered model\n",
    "                                  workspace=ws)  # Set the Azure ML workspace for registration"
   ]
  },
  {
   "cell_type": "code",
   "execution_count": 14,
   "metadata": {},
   "outputs": [],
   "source": [
    "conda_env = Environment('AzureDeploy-Housing')  # Create a new environment with the specified name\n",
    "conda_env.python.conda_dependencies = CondaDependencies.create(conda_packages=['scikit-learn'])  # Specify the Conda dependencies for the environment"
   ]
  },
  {
   "cell_type": "code",
   "execution_count": 15,
   "metadata": {},
   "outputs": [],
   "source": [
    "inference_config = InferenceConfig(entry_script='Score.py',  # Specify the entry script for inference\n",
    "                                   environment=conda_env)  # Set the environment configuration for inference"
   ]
  },
  {
   "cell_type": "code",
   "execution_count": 16,
   "metadata": {},
   "outputs": [],
   "source": [
    "aci_config = AciWebservice.deploy_configuration(cpu_cores=2, memory_gb=5)  # Specify the deployment configuration for ACI"
   ]
  },
  {
   "cell_type": "code",
   "execution_count": 18,
   "metadata": {},
   "outputs": [
    {
     "name": "stderr",
     "output_type": "stream",
     "text": [
      "C:\\Users\\Chirayu Baliyan\\AppData\\Local\\Temp\\ipykernel_13184\\2644788263.py:1: FutureWarning: azureml.core.model:\n",
      "To leverage new model deployment capabilities, AzureML recommends using CLI/SDK v2 to deploy models as online endpoint, \n",
      "please refer to respective documentations \n",
      "https://docs.microsoft.com/azure/machine-learning/how-to-deploy-managed-online-endpoints /\n",
      "https://docs.microsoft.com/azure/machine-learning/how-to-attach-kubernetes-anywhere \n",
      "For more information on migration, see https://aka.ms/acimoemigration \n",
      "To disable CLI/SDK v1 deprecation warning set AZUREML_LOG_DEPRECATION_WARNING_ENABLED to 'False'\n",
      "  service = Model.deploy(workspace=ws,  # Deploy the model as a web service in Azure ML\n"
     ]
    },
    {
     "name": "stdout",
     "output_type": "stream",
     "text": [
      "Tips: You can try get_logs(): https://aka.ms/debugimage#dockerlog or local deployment: https://aka.ms/debugimage#debug-locally to debug if deployment takes longer than 10 minutes.\n",
      "Running\n",
      "2024-04-18 00:02:50+05:30 Creating Container Registry if not exists.\n",
      "2024-04-18 00:02:50+05:30 Registering the environment.\n",
      "2024-04-18 00:02:52+05:30 Use the existing image.\n",
      "2024-04-18 00:02:52+05:30 Generating deployment configuration.\n",
      "2024-04-18 00:02:53+05:30 Submitting deployment to compute.\n",
      "2024-04-18 00:02:58+05:30 Checking the status of deployment housing-price-prediction..\n",
      "2024-04-18 00:04:24+05:30 Checking the status of inference endpoint housing-price-prediction.\n",
      "Succeeded\n",
      "ACI service creation operation finished, operation \"Succeeded\"\n"
     ]
    }
   ],
   "source": [
    "service = Model.deploy(workspace=ws,  # Deploy the model as a web service in Azure ML\n",
    "                       name='housing-price-prediction',  # Specify the name for the deployed service\n",
    "                       models=[registered_model],  # Use the registered model for deployment\n",
    "                       inference_config=inference_config,  # Set the inference configuration for the service\n",
    "                       deployment_config=aci_config)  # Set the deployment configuration for the service\n",
    "\n",
    "service.wait_for_deployment(show_output=True)  # Wait for the deployment to complete and show the output"
   ]
  },
  {
   "cell_type": "code",
   "execution_count": 19,
   "metadata": {},
   "outputs": [],
   "source": [
    "scoring_uri = service.scoring_uri  # Get the scoring URI for the deployed service"
   ]
  },
  {
   "cell_type": "code",
   "execution_count": 20,
   "metadata": {},
   "outputs": [
    {
     "data": {
      "text/plain": [
       "'http://e332cf5e-308c-46f6-8f56-d98c139094ed.eastus.azurecontainer.io/score'"
      ]
     },
     "execution_count": 20,
     "metadata": {},
     "output_type": "execute_result"
    }
   ],
   "source": [
    "scoring_uri"
   ]
  }
 ],
 "metadata": {
  "kernelspec": {
   "display_name": "Python 3",
   "language": "python",
   "name": "python3"
  },
  "language_info": {
   "codemirror_mode": {
    "name": "ipython",
    "version": 3
   },
   "file_extension": ".py",
   "mimetype": "text/x-python",
   "name": "python",
   "nbconvert_exporter": "python",
   "pygments_lexer": "ipython3",
   "version": "3.8.8"
  }
 },
 "nbformat": 4,
 "nbformat_minor": 2
}
